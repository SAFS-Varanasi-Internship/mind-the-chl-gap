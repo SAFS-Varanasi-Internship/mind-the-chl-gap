{
 "cells": [
  {
   "cell_type": "code",
   "execution_count": 69,
   "id": "bee2bc82-2c8f-45a3-aa77-ec54c6fa8a59",
   "metadata": {},
   "outputs": [],
   "source": [
    "import xarray as xr\n",
    "import numpy as np\n",
    "import matplotlib\n",
    "matplotlib.rcParams['animation.embed_limit'] = 2**32\n",
    "import matplotlib.pyplot as plt\n",
    "from matplotlib.animation import FuncAnimation\n",
    "\n",
    "%matplotlib inline\n",
    "# ds = xr.open_zarr(\"~/shared-public/mind_the_chl_gap/IO.zarr\")"
   ]
  },
  {
   "cell_type": "code",
   "execution_count": 2,
   "id": "594f1fa0-fd90-47db-bd5e-8edde199fe85",
   "metadata": {},
   "outputs": [],
   "source": [
    "def load_and_preprocess_data():\n",
    "    print(\"Starting data load and preprocessing...\")\n",
    "    zarr_ds = xr.open_zarr(\"~/shared-public/mind_the_chl_gap/IO.zarr\", consolidated=True)\n",
    "    zarr_ds = zarr_ds.sel(lat=slice(32, -11.75), lon=slice(42, 101.75))\n",
    "\n",
    "    all_nan_dates = np.isnan(zarr_ds[\"CHL_cmes-level3\"]).all(dim=[\"lon\", \"lat\"]).compute()\n",
    "    zarr_ds = zarr_ds.sel(time=~all_nan_dates)\n",
    "    zarr_ds = zarr_ds.sortby('time')\n",
    "    zarr_ds = zarr_ds.sel(time=slice('2019-01-01', '2022-12-31'))\n",
    "    return zarr_ds\n"
   ]
  },
  {
   "cell_type": "code",
   "execution_count": 3,
   "id": "faab6946-d620-474c-8961-eb4264afa434",
   "metadata": {},
   "outputs": [],
   "source": [
    "def prepare_data_for_pinn(zarr_ds):\n",
    "    print(\"Starting data preparation for PINN...\")\n",
    "    variables = ['CHL_cmes-level3', 'air_temp', 'sst', 'curr_dir', 'ug_curr', 'u_wind', 'v_wind', 'v_curr']\n",
    "    data = {var: zarr_ds[var].values for var in variables}\n",
    "    \n",
    "    water_mask = ~np.isnan(data['sst'][0])\n",
    "    \n",
    "    for var in variables:\n",
    "        data[var] = data[var][:, water_mask]\n",
    "        data[var] = np.nan_to_num(data[var], nan=np.nanmean(data[var]), posinf=np.nanmax(data[var]), neginf=np.nanmin(data[var]))\n",
    "        if (var == 'CHL_cmes-level3'):\n",
    "            data[var] = np.log(data[var])  # Use log CHL\n",
    "        mean = np.mean(data[var])\n",
    "        std = np.std(data[var])\n",
    "        data[var] = (data[var] - mean) / std\n",
    "        data[f'{var}_mean'] = mean\n",
    "        data[f'{var}_std'] = std\n",
    "\n",
    "    time = zarr_ds.time.values\n",
    "    lat = zarr_ds.lat.values\n",
    "    lon = zarr_ds.lon.values\n",
    "    time_numeric = (time - time[0]).astype('timedelta64[D]').astype(float)\n",
    "    lon_grid, lat_grid = np.meshgrid(lon, lat)\n",
    "    lat_flat = lat_grid.flatten()[water_mask.flatten()]\n",
    "    lon_flat = lon_grid.flatten()[water_mask.flatten()]\n",
    "    \n",
    "    return data, time_numeric, lat_flat, lon_flat, water_mask\n"
   ]
  },
  {
   "cell_type": "code",
   "execution_count": 49,
   "id": "c69a0853-3597-4de7-a45f-10b862cf6ef5",
   "metadata": {},
   "outputs": [],
   "source": [
    "def plot_chl_timestamp(chl_data, lon, lat, timestep):\n",
    "    x = chl_data[timestep].flatten()\n",
    "    # Create full NaN arrays matching the water_mask shape\n",
    "    img_grid = np.full(water_mask.shape, np.nan)\n",
    "    # Assign the chlorophyll values to the water pixels\n",
    "    img_grid[water_mask] = x[:np.sum(water_mask)]\n",
    "    # Reshape grids to match the lat/lon dimensions\n",
    "    img_grid = img_grid.reshape(water_mask.shape)\n",
    "\n",
    "    fig, ax = plt.subplots()\n",
    "    im = ax.imshow(img_grid, extent=(lon.min(), lon.max(), lat.min(), lat.max()), cmap='viridis')\n",
    "    ax.set_title(f\"Chlorophyll at Timestep {timestep}\")\n",
    "    ax.set_xlabel(\"Longitude\")\n",
    "    ax.set_ylabel(\"Latitude\")\n",
    "    plt.colorbar(im, ax=ax, label=\"(log) Chl concentration\")\n",
    "    plt.tight_layout()\n",
    "    plt.show()    \n",
    "\n",
    "\n",
    "def get_chl_timestamp_ax(chl_data, lon, lat, timestep):\n",
    "    x = chl_data[timestep].flatten()\n",
    "    # Create full NaN arrays matching the water_mask shape\n",
    "    img_grid = np.full(water_mask.shape, np.nan)\n",
    "    # Assign the chlorophyll values to the water pixels\n",
    "    img_grid[water_mask] = x[:np.sum(water_mask)]\n",
    "    # Reshape grids to match the lat/lon dimensions\n",
    "    img_grid = img_grid.reshape(water_mask.shape)\n",
    "    return img_grid\n",
    "    # im = ax.imshow(img_grid, extent=(lon.min(), lon.max(), lat.min(), lat.max()), cmap='viridis')\n"
   ]
  },
  {
   "cell_type": "code",
   "execution_count": 41,
   "id": "bf15baf0-7f72-4a52-9385-e87849aba970",
   "metadata": {},
   "outputs": [],
   "source": [
    "zarr_ds = load_and_preprocess_data()\n",
    "data, time, lat, lon, water_mask = prepare_data_for_pinn(zarr_ds)\n",
    "chl_data = data['CHL_cmes-level3']"
   ]
  },
  {
   "cell_type": "code",
   "execution_count": null,
   "id": "727ae51b-5b17-473f-b79a-22a208a56e14",
   "metadata": {
    "scrolled": true
   },
   "outputs": [],
   "source": [
    "fig, ax = plt.subplots()\n",
    "x = get_chl_timestamp_ax(chl_data, lat, lon, 1)\n",
    "im = ax.imshow(x, extent=(lon.min(), lon.max(), lat.min(), lat.max()), \n",
    "               # clim=(chl_data.min(), chl_data.max()),\n",
    "               clim=(-5.0, 10.0),\n",
    "               cmap='viridis')\n",
    "\n",
    "def animate(i):\n",
    "    x = get_chl_timestamp_ax(chl_data, lat, lon, i)\n",
    "    im.set_data(x)\n",
    "\n",
    "ani = FuncAnimation(fig, animate, frames=chl_data.shape[0])\n",
    "\n",
    "from IPython.display import HTML\n",
    "HTML(ani.to_jshtml(fps=4))"
   ]
  },
  {
   "cell_type": "code",
   "execution_count": 72,
   "id": "da110c5e-d093-4bd4-af6e-3e876e24b639",
   "metadata": {
    "editable": true,
    "slideshow": {
     "slide_type": ""
    },
    "tags": []
   },
   "outputs": [],
   "source": [
    "writervideo = matplotlib.animation.FFMpegWriter(fps=5) \n",
    "ani.save('plots/chl_animation.mp4', writer=writervideo) "
   ]
  }
 ],
 "metadata": {
  "kernelspec": {
   "display_name": "Python 3 (ipykernel)",
   "language": "python",
   "name": "python3"
  },
  "language_info": {
   "codemirror_mode": {
    "name": "ipython",
    "version": 3
   },
   "file_extension": ".py",
   "mimetype": "text/x-python",
   "name": "python",
   "nbconvert_exporter": "python",
   "pygments_lexer": "ipython3",
   "version": "3.11.5"
  }
 },
 "nbformat": 4,
 "nbformat_minor": 5
}
