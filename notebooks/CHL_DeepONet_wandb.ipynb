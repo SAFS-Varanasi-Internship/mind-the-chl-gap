{
 "cells": [
  {
   "cell_type": "code",
   "execution_count": 1,
   "metadata": {},
   "outputs": [],
   "source": [
    "import numpy as np\n",
    "import xarray as xr\n",
    "import os\n",
    "import sys\n",
    "sys.path.append(\"../\")\n",
    "\n",
    "import torch\n",
    "from torch import nn\n",
    "import torch.nn.functional as F\n",
    "from torch.optim.lr_scheduler import ReduceLROnPlateau\n",
    "\n",
    "from src.data_utils import *        \n",
    "from src.models import DeepONet\n",
    "from src.pinn_train_utils import *\n",
    "\n",
    "import matplotlib.pyplot as plt\n",
    "%matplotlib inline\n",
    "\n",
    "%load_ext autoreload\n",
    "%autoreload 2"
   ]
  },
  {
   "cell_type": "code",
   "execution_count": 2,
   "metadata": {},
   "outputs": [],
   "source": [
    "data_dir = \"../data/\"\n",
    "\n",
    "time_start = \"2017-01-01\"\n",
    "time_end = \"2022-12-31\"\n",
    "\n",
    "zarr_ds = load_data(data_dir, time_start=time_start, time_end=time_end)"
   ]
  },
  {
   "cell_type": "code",
   "execution_count": 3,
   "metadata": {},
   "outputs": [],
   "source": [
    "batch_size = 64\n",
    "train_loader, test_loader = get_data_loaders(zarr_ds, 0.8, batch_size=batch_size)"
   ]
  },
  {
   "cell_type": "code",
   "execution_count": 4,
   "metadata": {},
   "outputs": [],
   "source": [
    "device = torch.device(\"cuda:0\" if torch.cuda.is_available() else \"cpu\")"
   ]
  },
  {
   "cell_type": "code",
   "execution_count": 5,
   "metadata": {},
   "outputs": [],
   "source": [
    "def get_water_mask(zarr_ds):\n",
    "    st_ = zarr_ds[\"sst\"].values[0, :, :]\n",
    "    water_mask = np.zeros_like(st_)\n",
    "    water_mask[np.isnan(st_)] = 1.0\n",
    "    return torch.tensor(water_mask)"
   ]
  },
  {
   "cell_type": "code",
   "execution_count": 6,
   "metadata": {},
   "outputs": [],
   "source": [
    "water_mask = get_water_mask(zarr_ds)"
   ]
  },
  {
   "cell_type": "code",
   "execution_count": 7,
   "metadata": {},
   "outputs": [],
   "source": [
    "def init_network(m):\n",
    "    if isinstance(m, nn.Conv2d):\n",
    "        nn.init.kaiming_normal_(m.weight, nonlinearity=\"relu\")\n",
    "        if m.bias is not None:\n",
    "            nn.init.constant_(m.bias, 0.1)\n",
    "    elif isinstance(m, nn.Linear):\n",
    "        nn.init.xavier_normal_(m.weight)\n",
    "        if m.bias is not None:\n",
    "            nn.init.constant_(m.bias, 0.0)"
   ]
  },
  {
   "cell_type": "code",
   "execution_count": 8,
   "metadata": {},
   "outputs": [],
   "source": [
    "import wandb"
   ]
  },
  {
   "cell_type": "code",
   "execution_count": 9,
   "metadata": {},
   "outputs": [
    {
     "name": "stderr",
     "output_type": "stream",
     "text": [
      "Failed to detect the name of this notebook, you can set it manually with the WANDB_NOTEBOOK_NAME environment variable to enable code saving.\n",
      "\u001b[34m\u001b[1mwandb\u001b[0m: Currently logged in as: \u001b[33mfishysoup\u001b[0m. Use \u001b[1m`wandb login --relogin`\u001b[0m to force relogin\n"
     ]
    },
    {
     "data": {
      "text/plain": [
       "True"
      ]
     },
     "execution_count": 9,
     "metadata": {},
     "output_type": "execute_result"
    }
   ],
   "source": [
    "wandb.login()"
   ]
  },
  {
   "cell_type": "code",
   "execution_count": 11,
   "metadata": {},
   "outputs": [],
   "source": [
    "def train(\n",
    "    model,\n",
    "    optimizer,\n",
    "    criterion,\n",
    "    train_loader,\n",
    "    val_loader,\n",
    "    device,\n",
    "    water_mask,\n",
    "    sample_water_only=False,\n",
    "    num_epochs=100,\n",
    "    scheduler=None,\n",
    "    lambda_physics=0.1,\n",
    "    D=0.1,\n",
    "    num_sensors=100,\n",
    "    show_every=50,\n",
    "    plot_every=False,\n",
    "):\n",
    "    model.train()\n",
    "    train_losses, val_losses = [], []\n",
    "    for epoch in range(num_epochs):\n",
    "        train_loss, phys_loss = train_epoch(\n",
    "            model,\n",
    "            optimizer,\n",
    "            criterion,\n",
    "            train_loader,\n",
    "            device,\n",
    "            water_mask,\n",
    "            sample_water_only=sample_water_only,\n",
    "            lambda_phys=lambda_physics,\n",
    "            D=D,\n",
    "            num_sensors=num_sensors,\n",
    "            epoch=epoch,\n",
    "        )\n",
    "        val_loss, val_phys = validate(\n",
    "            model,\n",
    "            criterion,\n",
    "            val_loader,\n",
    "            device,\n",
    "            water_mask,\n",
    "            sample_water_only=sample_water_only,\n",
    "            lambda_phys=lambda_physics,\n",
    "            D=D,\n",
    "            num_sensors=num_sensors,\n",
    "        )\n",
    "        train_losses.append(train_loss)\n",
    "        val_losses.append(val_loss)\n",
    "        train_loss_mn = np.mean(train_loss)\n",
    "        if (epoch + 1) % show_every == 0:\n",
    "            print(\n",
    "                f\"Epoch {epoch+1}/{num_epochs}, Train Loss: {train_loss_mn:.4f}, Val Loss: {val_loss:.4f}, Val phys. Loss: {val_phys:.4f}\"\n",
    "            )\n",
    "\n",
    "        wandb.log({\"loss\": val_loss})\n",
    "\n",
    "        if scheduler is not None:\n",
    "            scheduler.step(val_loss)\n",
    "    return train_losses, val_losses\n",
    "\n",
    "\n",
    "def get_act_fun_from_config(act_fun):\n",
    "    f = act_fun\n",
    "    if f == \"swish\":\n",
    "        return nn.SiLU\n",
    "    elif f == \"gelu\":\n",
    "        return nn.GELU\n",
    "    elif f == \"tanh\":\n",
    "        return nn.Tanh\n",
    "    elif f == \"elu\":\n",
    "        return nn.ELU\n",
    "    elif f == \"relu\":\n",
    "        return nn.ReLU\n",
    "\n",
    "\n",
    "def train_model():\n",
    "    run = wandb.init()\n",
    "    config = wandb.config\n",
    "    if config.onet_output_fun == \"relu\":\n",
    "        onet_output = F.relu\n",
    "    elif config.onet_output_fun == \"sigmoid\":\n",
    "        onet_output = F.sigmoid\n",
    "    else:\n",
    "        onet_output = lambda x: x\n",
    "    torch.random.manual_seed(0)\n",
    "    model = DeepONet(\n",
    "        9,\n",
    "        2,\n",
    "        64,\n",
    "        num_basis_functions=config.num_basis_functions,\n",
    "        trunk_act=get_act_fun_from_config(config.trunk_act),\n",
    "        branch_linear_act=get_act_fun_from_config(config.branch_linear_act),\n",
    "        onet_output_fun=onet_output,\n",
    "        image_size=(176, 240),\n",
    "    ).to(device)\n",
    "    # model.apply(init_network)\n",
    "    opt = torch.optim.Adam(model.parameters(), lr=config.learning_rate)\n",
    "    criterion = nn.MSELoss()\n",
    "    # scheduler = ReduceLROnPlateau(\n",
    "    #     opt, mode=\"min\", factor=0.5, patience=config.patience, verbose=True\n",
    "    # )\n",
    "    torch.cuda.empty_cache()\n",
    "    num_sensors = config.num_sensors\n",
    "    n_epochs = 15\n",
    "    train_losses, test_losses = train(\n",
    "        model,\n",
    "        opt,\n",
    "        criterion,\n",
    "        train_loader,\n",
    "        test_loader,\n",
    "        device,\n",
    "        water_mask,\n",
    "        sample_water_only=True,\n",
    "        num_epochs=n_epochs,\n",
    "        lambda_physics=config.physics_weight,\n",
    "        scheduler=None,\n",
    "        num_sensors=num_sensors,\n",
    "        show_every=5,\n",
    "        D=config.D,\n",
    "    )\n",
    "    return train_losses, test_losses, model"
   ]
  },
  {
   "cell_type": "code",
   "execution_count": 12,
   "metadata": {},
   "outputs": [],
   "source": [
    "sweep_config = {\n",
    "    \"method\": \"bayes\",\n",
    "    \"metric\": {\"name\": \"loss\", \"goal\": \"minimize\"},\n",
    "    \"parameters\": {\n",
    "        \"trunk_act\": {\"values\": [\"swish\", \"tanh\", \"elu\"]},\n",
    "        \"branch_linear_act\": {\"values\": [\"swish\", \"tanh\", \"relu\"]},\n",
    "        \"onet_output_fun\": {\"values\": [\"sigmoid\", \"relu\", \"none\"]},\n",
    "        \"D\": {\"distribution\": \"log_uniform_values\", \"min\": 1e-4, \"max\": 1e-1},\n",
    "        \"physics_weight\": {\"values\": [0.1, 0.2, 0.5]},\n",
    "        \"num_basis_functions\": {\"values\": [100, 200]},\n",
    "        \"num_sensors\": {\"values\": [1000, 1500]},\n",
    "        \"learning_rate\": {\"values\": [1e-4, 5e-4, 1e-3, 5e-5]},\n",
    "    },\n",
    "}"
   ]
  },
  {
   "cell_type": "code",
   "execution_count": 13,
   "metadata": {},
   "outputs": [
    {
     "name": "stdout",
     "output_type": "stream",
     "text": [
      "Create sweep with ID: qhmuvqof\n",
      "Sweep URL: https://wandb.ai/fishysoup/CHL_deeponet_hyperparam_optim/sweeps/qhmuvqof\n"
     ]
    }
   ],
   "source": [
    "sweep = wandb.sweep(sweep_config, project=\"CHL_deeponet_hyperparam_optim\")"
   ]
  },
  {
   "cell_type": "code",
   "execution_count": null,
   "metadata": {},
   "outputs": [],
   "source": [
    "wandb.agent(sweep, function=train_model, count=40)"
   ]
  },
  {
   "cell_type": "code",
   "execution_count": null,
   "metadata": {},
   "outputs": [],
   "source": []
  },
  {
   "cell_type": "code",
   "execution_count": null,
   "metadata": {},
   "outputs": [],
   "source": []
  }
 ],
 "metadata": {
  "kernelspec": {
   "display_name": "torch",
   "language": "python",
   "name": "python3"
  },
  "language_info": {
   "codemirror_mode": {
    "name": "ipython",
    "version": 3
   },
   "file_extension": ".py",
   "mimetype": "text/x-python",
   "name": "python",
   "nbconvert_exporter": "python",
   "pygments_lexer": "ipython3",
   "version": "3.11.9"
  }
 },
 "nbformat": 4,
 "nbformat_minor": 2
}
